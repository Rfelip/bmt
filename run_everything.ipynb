{
 "cells": [
  {
   "cell_type": "code",
   "execution_count": 1,
   "metadata": {},
   "outputs": [],
   "source": [
    "import os, sys\n",
    "import logging\n",
    "\n",
    "idx_path = os.path.abspath(os.path.join(r\"./src/indexer\"))\n",
    "model_path = os.path.abspath(os.path.join(r\"./src/model\"))\n",
    "srch_path = os.path.abspath(os.path.join(r\"./src/searcher\"))\n",
    "srch_build_path = os.path.abspath(os.path.join(r\"./src/search_processor\"))\n",
    "\n",
    "if idx_path not in sys.path:\n",
    "    sys.path.append(idx_path)\n",
    "    sys.path.append(model_path)\n",
    "    sys.path.append(srch_path)\n",
    "    sys.path.append(srch_build_path)"
   ]
  },
  {
   "cell_type": "code",
   "execution_count": 2,
   "metadata": {},
   "outputs": [],
   "source": [
    "log_filename = os.path.join('logs', 'log.log')\n",
    "logging.basicConfig(\n",
    "    level=logging.INFO,\n",
    "    format='%(asctime)s - %(levelname)s - %(message)s',\n",
    "    handlers=[\n",
    "        logging.FileHandler(log_filename),\n",
    "        logging.StreamHandler()])"
   ]
  },
  {
   "cell_type": "code",
   "execution_count": 3,
   "metadata": {},
   "outputs": [
    {
     "name": "stderr",
     "output_type": "stream",
     "text": [
      "[nltk_data] Downloading package stopwords to C:\\Users\\Ruan\n",
      "[nltk_data]     Felipe\\AppData\\Roaming\\nltk_data...\n",
      "[nltk_data]   Package stopwords is already up-to-date!\n",
      "[nltk_data] Downloading package punkt to C:\\Users\\Ruan\n",
      "[nltk_data]     Felipe\\AppData\\Roaming\\nltk_data...\n",
      "[nltk_data]   Package punkt is already up-to-date!\n"
     ]
    },
    {
     "data": {
      "text/plain": [
       "True"
      ]
     },
     "execution_count": 3,
     "metadata": {},
     "output_type": "execute_result"
    }
   ],
   "source": [
    "import nltk\n",
    "nltk.download('stopwords')\n",
    "nltk.download('punkt')"
   ]
  },
  {
   "cell_type": "code",
   "execution_count": 4,
   "metadata": {},
   "outputs": [],
   "source": [
    "from indexador import index_files\n",
    "from vector_model import build_vector_model, calculate_tf_idf\n",
    "from buscador import search_from_config\n",
    "from search_processor import build_query_file"
   ]
  },
  {
   "cell_type": "code",
   "execution_count": 5,
   "metadata": {},
   "outputs": [
    {
     "name": "stderr",
     "output_type": "stream",
     "text": [
      "2024-06-23 19:45:46,049 - INFO - Parsing configuration file: configs/PC.CFG\n",
      "2024-06-23 19:45:46,052 - INFO - Input query file added: \"./data/input/cfquery.xml\"\n",
      "2024-06-23 19:45:46,057 - INFO - Output query file added: \"./result/busca_cfquery.csv\"\n",
      "2024-06-23 19:45:46,058 - INFO - Expected Result file set to: ./result/esperados.csv\n",
      "2024-06-23 19:45:46,063 - INFO - Configuration file parsed successfully. Input Query file: ./data/input/cfquery.xml, Output Query files: ./result/busca_cfquery.csv,Expected Result file: ./result/esperados.csv\n",
      "2024-06-23 19:45:46,064 - INFO - Started processing XML file: ./data/input/cfquery.xml\n",
      "2024-06-23 19:45:46,286 - INFO - Query file generated: ./result/busca_cfquery.csv\n",
      "2024-06-23 19:45:46,287 - INFO - Results file generated: ./result/esperados.csv\n",
      "2024-06-23 19:45:46,288 - INFO - Finished processing.\n"
     ]
    }
   ],
   "source": [
    "build_query_file(\"configs/PC.CFG\")\n",
    "#Isso constroi nosso arquivo de query."
   ]
  },
  {
   "cell_type": "code",
   "execution_count": 6,
   "metadata": {},
   "outputs": [
    {
     "name": "stderr",
     "output_type": "stream",
     "text": [
      "2024-06-23 19:45:46,305 - INFO - Script execution started\n",
      "2024-06-23 19:45:46,308 - INFO - Started reading config file\n",
      "2024-06-23 19:45:46,311 - INFO - Finished reading config file\n",
      "2024-06-23 19:45:46,314 - INFO - Started reading data from ./data/xmls/cf74.xml\n",
      "2024-06-23 19:45:46,449 - INFO - Finished reading data from ./data/xmls/cf74.xml\n",
      "2024-06-23 19:45:46,463 - INFO - Started reading data from ./data/xmls/cf75.xml\n",
      "2024-06-23 19:45:46,505 - INFO - Finished reading data from ./data/xmls/cf75.xml\n",
      "2024-06-23 19:45:46,507 - INFO - Started reading data from ./data/xmls/cf76.xml\n",
      "2024-06-23 19:45:46,584 - INFO - Finished reading data from ./data/xmls/cf76.xml\n",
      "2024-06-23 19:45:46,589 - INFO - Started reading data from ./data/xmls/cf77.xml\n",
      "2024-06-23 19:45:46,662 - INFO - Finished reading data from ./data/xmls/cf77.xml\n",
      "2024-06-23 19:45:46,666 - INFO - Started reading data from ./data/xmls/cf78.xml\n",
      "2024-06-23 19:45:46,694 - INFO - Finished reading data from ./data/xmls/cf78.xml\n",
      "2024-06-23 19:45:46,697 - INFO - Started reading data from ./data/xmls/cf79.xml\n",
      "2024-06-23 19:45:46,783 - INFO - Finished reading data from ./data/xmls/cf79.xml\n",
      "2024-06-23 19:45:46,788 - INFO - Started indexing words\n",
      "2024-06-23 19:45:47,657 - INFO - Finished indexing words\n",
      "2024-06-23 19:45:47,658 - INFO - Started writing index to ./result/inverse_list.csv\n",
      "2024-06-23 19:45:47,914 - INFO - Finished writing index to ./result/inverse_list.csv\n",
      "2024-06-23 19:45:47,918 - INFO - Script execution finished\n",
      "2024-06-23 19:45:47,919 - INFO - Total files read: 6\n",
      "2024-06-23 19:45:47,922 - INFO - Total execution time: 0:00:01.608541\n"
     ]
    }
   ],
   "source": [
    "index = index_files(\"configs/GLI.CFG\")\n",
    "##Isso aqui constroi a lista inversa. Eu chamei ela de \"index\", já que ela é essencialmente um índice.\n",
    "##Ela é usada pra recuperar o texto depois, e calcular a \"direção\" de um documento inteiro."
   ]
  },
  {
   "cell_type": "code",
   "execution_count": 7,
   "metadata": {},
   "outputs": [
    {
     "name": "stderr",
     "output_type": "stream",
     "text": [
      "2024-06-23 19:45:47,991 - INFO - Vectorial model execution started\n",
      "2024-06-23 19:45:47,997 - INFO - Started reading index config file\n",
      "2024-06-23 19:45:48,058 - INFO - Finished reading index config file\n",
      "2024-06-23 19:45:48,067 - INFO - Started loading index from ./result/inverse_list.csv\n",
      "2024-06-23 19:45:48,800 - INFO - Finished loading index from ./result/inverse_list.csv\n",
      "2024-06-23 19:45:48,801 - INFO - Checking if METRIC file ./result/vector_model.csv exists\n",
      "2024-06-23 19:45:48,802 - INFO - METRIC file ./result/vector_model.csv not found. Calculating METRIC scores.\n",
      "2024-06-23 19:45:48,805 - INFO - Started calculating Metric for Analysis... (default is tf-idf)\n",
      "2024-06-23 19:45:52,915 - INFO - Finished calculating metric.\n",
      "2024-06-23 19:45:52,916 - INFO - Started writing METRIC scores to ./result/vector_model.csv\n",
      "2024-06-23 19:46:11,333 - INFO - Finished writing METRIC scores to ./result/vector_model.csv\n",
      "2024-06-23 19:46:11,334 - INFO - Vectorial model execution finished\n",
      "2024-06-23 19:46:11,335 - INFO - Total execution time: 0:00:23.342737\n"
     ]
    }
   ],
   "source": [
    "build_vector_model(\"configs/VECTOR_MODEL.CFG\", calculate_tf_idf)\n",
    "##Você pode alterar a métrica aqui. Passe um segundo argumento, \"metric = função\", onde função recebe somente o index. Por padrão, vai ser usado TF-IDF com ajuste (0.5 + 0.5*tf) * idf"
   ]
  },
  {
   "cell_type": "code",
   "execution_count": 8,
   "metadata": {},
   "outputs": [
    {
     "name": "stderr",
     "output_type": "stream",
     "text": [
      "2024-06-23 19:46:11,523 - INFO - Parsing configuration file: configs/BUSCA.CFG\n",
      "2024-06-23 19:46:11,535 - INFO - Model file set to: ./result/vector_model.csv\n",
      "2024-06-23 19:46:11,536 - INFO - Query file added: \"./result/busca_cfquery.csv\"\n",
      "2024-06-23 19:46:11,537 - INFO - Result file set to: ./result/resultados.csv\n",
      "2024-06-23 19:46:11,539 - INFO - Configuration file parsed successfully. Model file: ./result/vector_model.csv, Query files: ['./result/busca_cfquery.csv'], Result file: ./result/resultados.csv\n",
      "2024-06-23 19:46:11,539 - INFO - Loading vector model from file: ./result/vector_model.csv\n",
      "2024-06-23 19:46:16,138 - INFO - Vector model loaded successfully with 9141 words and 1215 documents\n",
      "2024-06-23 19:46:16,164 - INFO - Reading query file: ./result/busca_cfquery.csv\n",
      "2024-06-23 19:46:16,221 - INFO - Query file './result/busca_cfquery.csv' read successfully. Number of Queries: 99\n",
      "2024-06-23 19:46:16,687 - INFO - Results sorted for all queries in file './result/busca_cfquery.csv'. Total queries: 99\n",
      "2024-06-23 19:46:58,953 - INFO - Operation completed. Results written to file: ./result/resultados.csv\n"
     ]
    }
   ],
   "source": [
    "search_from_config(\"configs/BUSCA.CFG\", index)\n",
    "##Realiza a busca, e escreve tudo no arquivo \"./data/output/resultados.csv\"\n",
    "##Peguei apenas os 10 maiores resultados -- tem 1215 documentos na coleção, o arquivo ficaria muito poluido com muitos resultados.\n",
    "##Vai de 1 a 100. E pula o 93... deus sabe o que aconteceu com o 93.....\n",
    "##Originalmente eu printava o tempo de cada query. era uma coisa de microsegundos, muito pouco. E poluia a tela massivamente."
   ]
  }
 ],
 "metadata": {
  "kernelspec": {
   "display_name": "Python 3",
   "language": "python",
   "name": "python3"
  },
  "language_info": {
   "codemirror_mode": {
    "name": "ipython",
    "version": 3
   },
   "file_extension": ".py",
   "mimetype": "text/x-python",
   "name": "python",
   "nbconvert_exporter": "python",
   "pygments_lexer": "ipython3",
   "version": "3.12.4"
  }
 },
 "nbformat": 4,
 "nbformat_minor": 2
}
