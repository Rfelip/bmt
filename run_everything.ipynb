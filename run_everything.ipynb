{
 "cells": [
  {
   "cell_type": "code",
   "execution_count": 1,
   "metadata": {},
   "outputs": [],
   "source": [
    "import os, sys\n",
    "import logging\n",
    "\n",
    "idx_path = os.path.abspath(os.path.join(r\"./src/indexer\"))\n",
    "model_path = os.path.abspath(os.path.join(r\"./src/model\"))\n",
    "srch_path = os.path.abspath(os.path.join(r\"./src/searcher\"))\n",
    "srch_build_path = os.path.abspath(os.path.join(r\"./src/search_processor\"))\n",
    "\n",
    "if idx_path not in sys.path:\n",
    "    sys.path.append(idx_path)\n",
    "    sys.path.append(model_path)\n",
    "    sys.path.append(srch_path)\n",
    "    sys.path.append(srch_build_path)"
   ]
  },
  {
   "cell_type": "code",
   "execution_count": 2,
   "metadata": {},
   "outputs": [],
   "source": [
    "log_filename = os.path.join('logs', 'log.log')\n",
    "logging.basicConfig(\n",
    "    level=logging.INFO,\n",
    "    format='%(asctime)s - %(levelname)s - %(message)s',\n",
    "    handlers=[\n",
    "        logging.FileHandler(log_filename),\n",
    "        logging.StreamHandler()])"
   ]
  },
  {
   "cell_type": "code",
   "execution_count": 3,
   "metadata": {},
   "outputs": [],
   "source": [
    "from indexador import index_files\n",
    "from vector_model import build_vector_model, calculate_tf_idf\n",
    "from buscador import search_from_config\n",
    "from search_processor import build_query_file"
   ]
  },
  {
   "cell_type": "code",
   "execution_count": 4,
   "metadata": {},
   "outputs": [
    {
     "name": "stderr",
     "output_type": "stream",
     "text": [
      "2024-06-23 04:35:17,276 - INFO - Started processing XML file: ./data/input/cfquery.xml\n",
      "2024-06-23 04:35:17,393 - INFO - query file generated: ./data/input/busca_cfquery.csv\n",
      "2024-06-23 04:35:17,395 - INFO - Finished processing.\n"
     ]
    }
   ],
   "source": [
    "csv_file_name =  \"./data/input/busca_cfquery.csv\"\n",
    "build_query_file(\"./data/input/cfquery.xml\", csv_file_name)\n",
    "#Isso constroi nosso arquivo de query."
   ]
  },
  {
   "cell_type": "code",
   "execution_count": 5,
   "metadata": {},
   "outputs": [
    {
     "name": "stderr",
     "output_type": "stream",
     "text": [
      "2024-06-23 04:35:17,408 - INFO - Script execution started\n",
      "2024-06-23 04:35:17,409 - INFO - Started reading config file\n",
      "2024-06-23 04:35:17,410 - INFO - Finished reading config file\n",
      "2024-06-23 04:35:17,411 - INFO - Started reading data from ./data/xmls/cf74.xml\n",
      "2024-06-23 04:35:17,452 - INFO - Finished reading data from ./data/xmls/cf74.xml\n",
      "2024-06-23 04:35:17,456 - INFO - Started reading data from ./data/xmls/cf75.xml\n",
      "2024-06-23 04:35:17,493 - INFO - Finished reading data from ./data/xmls/cf75.xml\n",
      "2024-06-23 04:35:17,497 - INFO - Started reading data from ./data/xmls/cf76.xml\n",
      "2024-06-23 04:35:17,576 - INFO - Finished reading data from ./data/xmls/cf76.xml\n",
      "2024-06-23 04:35:17,580 - INFO - Started reading data from ./data/xmls/cf77.xml\n",
      "2024-06-23 04:35:17,637 - INFO - Finished reading data from ./data/xmls/cf77.xml\n",
      "2024-06-23 04:35:17,646 - INFO - Started reading data from ./data/xmls/cf78.xml\n",
      "2024-06-23 04:35:17,766 - INFO - Finished reading data from ./data/xmls/cf78.xml\n",
      "2024-06-23 04:35:17,769 - INFO - Started reading data from ./data/xmls/cf79.xml\n",
      "2024-06-23 04:35:17,856 - INFO - Finished reading data from ./data/xmls/cf79.xml\n",
      "2024-06-23 04:35:17,860 - INFO - Started indexing words\n",
      "2024-06-23 04:35:18,401 - INFO - Finished indexing words\n",
      "2024-06-23 04:35:18,402 - INFO - Started writing index to ./data/index/inverse_list.csv\n",
      "2024-06-23 04:35:18,471 - INFO - Finished writing index to ./data/index/inverse_list.csv\n",
      "2024-06-23 04:35:18,473 - INFO - Script execution finished\n",
      "2024-06-23 04:35:18,473 - INFO - Total files read: 6\n",
      "2024-06-23 04:35:18,474 - INFO - Total execution time: 0:00:01.062711\n"
     ]
    }
   ],
   "source": [
    "index = index_files(\"configs/GLI.CFG\")\n",
    "##Isso aqui constroi a lista inversa. Eu chamei ela de \"index\", já que ela é essencialmente um índice.\n",
    "##Ela é usada pra recuperar o texto depois, e calcular a \"direção\" de um documento inteiro."
   ]
  },
  {
   "cell_type": "code",
   "execution_count": 6,
   "metadata": {},
   "outputs": [
    {
     "name": "stderr",
     "output_type": "stream",
     "text": [
      "2024-06-23 04:35:18,485 - INFO - Vectorial model execution started\n",
      "2024-06-23 04:35:18,486 - INFO - Started reading index config file\n",
      "2024-06-23 04:35:18,489 - INFO - Finished reading index config file\n",
      "2024-06-23 04:35:18,489 - INFO - Started loading index from ./data/index/inverse_list.csv\n",
      "2024-06-23 04:35:18,893 - INFO - Finished loading index from ./data/index/inverse_list.csv\n",
      "2024-06-23 04:35:18,894 - INFO - Checking if METRIC file ./data/index/vector_model.csv exists\n",
      "2024-06-23 04:35:28,600 - INFO - Loaded METRIC scores from ./data/index/vector_model.csv\n",
      "2024-06-23 04:35:28,601 - INFO - Skipping METRIC calculation as results already exist.\n",
      "2024-06-23 04:35:28,602 - INFO - Vectorial model execution finished\n",
      "2024-06-23 04:35:28,603 - INFO - Total execution time: 0:00:10.117101\n"
     ]
    }
   ],
   "source": [
    "build_vector_model(\"configs/VECTOR_MODEL.CFG\", calculate_tf_idf)\n",
    "##Você pode alterar a métrica aqui. Passe um segundo argumento, \"metric = função\", onde função recebe somente o index. Por padrão, vai ser usado TF-IDF com ajuste (0.5 + 0.5*tf) * idf"
   ]
  },
  {
   "cell_type": "code",
   "execution_count": 7,
   "metadata": {},
   "outputs": [
    {
     "name": "stderr",
     "output_type": "stream",
     "text": [
      "2024-06-23 04:35:28,887 - INFO - Parsing configuration file: configs/BUSCA.CFG\n",
      "2024-06-23 04:35:28,889 - INFO - Model file set to: ./data/index/vector_model.csv\n",
      "2024-06-23 04:35:28,891 - INFO - Query file added: \"./data/input/busca_cfquery.csv\"\n",
      "2024-06-23 04:35:28,895 - INFO - Result file set to: ./data/output/resultados.csv\n",
      "2024-06-23 04:35:28,897 - INFO - Configuration file parsed successfully. Model file: ./data/index/vector_model.csv, Query files: ['./data/input/busca_cfquery.csv'], Result file: ./data/output/resultados.csv\n",
      "2024-06-23 04:35:28,898 - INFO - Loading vector model from file: ./data/index/vector_model.csv\n",
      "2024-06-23 04:35:31,696 - INFO - Vector model loaded successfully with 9141 words and 1215 documents\n",
      "2024-06-23 04:35:31,740 - INFO - Reading query file: ./data/input/busca_cfquery.csv\n",
      "2024-06-23 04:35:31,819 - INFO - Query file './data/input/busca_cfquery.csv' read successfully. Number of Queries: 99\n",
      "2024-06-23 04:35:32,106 - INFO - Results sorted for all queries in file './data/input/busca_cfquery.csv'. Total queries: 99\n",
      "2024-06-23 04:36:01,136 - INFO - Operation completed. Results written to file: ./data/output/resultados.csv\n"
     ]
    }
   ],
   "source": [
    "search_from_config(\"configs/BUSCA.CFG\", index)\n",
    "##Realiza a busca, e escreve tudo no arquivo \"./data/output/resultados.csv\"\n",
    "##Peguei apenas os 10 maiores resultados -- tem 1215 documentos na coleção, o arquivo ficaria muito poluido com muitos resultados."
   ]
  }
 ],
 "metadata": {
  "kernelspec": {
   "display_name": "Python 3",
   "language": "python",
   "name": "python3"
  },
  "language_info": {
   "codemirror_mode": {
    "name": "ipython",
    "version": 3
   },
   "file_extension": ".py",
   "mimetype": "text/x-python",
   "name": "python",
   "nbconvert_exporter": "python",
   "pygments_lexer": "ipython3",
   "version": "3.12.4"
  }
 },
 "nbformat": 4,
 "nbformat_minor": 2
}
