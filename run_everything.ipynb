{
 "cells": [
  {
   "cell_type": "code",
   "execution_count": 1,
   "metadata": {},
   "outputs": [],
   "source": [
    "import os, sys\n",
    "import logging\n",
    "\n",
    "idx_path = os.path.abspath(os.path.join(r\"./src/indexer\"))\n",
    "model_path = os.path.abspath(os.path.join(r\"./src/model\"))\n",
    "srch_path = os.path.abspath(os.path.join(r\"./src/searcher\"))\n",
    "srch_build_path = os.path.abspath(os.path.join(r\"./src/search_processor\"))\n",
    "\n",
    "if idx_path not in sys.path:\n",
    "    sys.path.append(idx_path)\n",
    "    sys.path.append(model_path)\n",
    "    sys.path.append(srch_path)\n",
    "    sys.path.append(srch_build_path)"
   ]
  },
  {
   "cell_type": "code",
   "execution_count": 2,
   "metadata": {},
   "outputs": [],
   "source": [
    "log_filename = os.path.join('logs', 'log.log')\n",
    "logging.basicConfig(\n",
    "    level=logging.INFO,\n",
    "    format='%(asctime)s - %(levelname)s - %(message)s',\n",
    "    handlers=[\n",
    "        logging.FileHandler(log_filename),\n",
    "        logging.StreamHandler()])"
   ]
  },
  {
   "cell_type": "code",
   "execution_count": 3,
   "metadata": {},
   "outputs": [
    {
     "name": "stderr",
     "output_type": "stream",
     "text": [
      "[nltk_data] Downloading package stopwords to C:\\Users\\Ruan\n",
      "[nltk_data]     Felipe\\AppData\\Roaming\\nltk_data...\n",
      "[nltk_data]   Package stopwords is already up-to-date!\n",
      "[nltk_data] Downloading package punkt to C:\\Users\\Ruan\n",
      "[nltk_data]     Felipe\\AppData\\Roaming\\nltk_data...\n",
      "[nltk_data]   Package punkt is already up-to-date!\n"
     ]
    },
    {
     "data": {
      "text/plain": [
       "True"
      ]
     },
     "execution_count": 3,
     "metadata": {},
     "output_type": "execute_result"
    }
   ],
   "source": [
    "import nltk\n",
    "nltk.download('stopwords')\n",
    "nltk.download('punkt')"
   ]
  },
  {
   "cell_type": "code",
   "execution_count": 4,
   "metadata": {},
   "outputs": [],
   "source": [
    "from indexador import index_files\n",
    "from vector_model import build_vector_model, calculate_tf_idf\n",
    "from buscador import search_from_config\n",
    "from search_processor import build_query_file"
   ]
  },
  {
   "cell_type": "code",
   "execution_count": 5,
   "metadata": {},
   "outputs": [
    {
     "name": "stderr",
     "output_type": "stream",
     "text": [
      "2024-06-23 21:15:57,820 - INFO - Parsing configuration file: configs/PC.CFG\n",
      "2024-06-23 21:15:57,823 - INFO - Input query file added: \"./data/input/cfquery.xml\"\n",
      "2024-06-23 21:15:57,824 - INFO - Output query file added: \"./result/busca_cfquery.csv\"\n",
      "2024-06-23 21:15:57,825 - INFO - Expected Result file set to: ./result/esperados.csv\n",
      "2024-06-23 21:15:57,826 - INFO - Configuration file parsed successfully. Input Query file: ./data/input/cfquery.xml, Output Query files: ./result/busca_cfquery.csv,Expected Result file: ./result/esperados.csv\n",
      "2024-06-23 21:15:57,827 - INFO - Started processing XML file: ./data/input/cfquery.xml\n",
      "2024-06-23 21:15:57,942 - INFO - Query file generated: ./result/busca_cfquery.csv\n",
      "2024-06-23 21:15:57,943 - INFO - Results file generated: ./result/esperados.csv\n",
      "2024-06-23 21:15:57,945 - INFO - Finished processing.\n"
     ]
    }
   ],
   "source": [
    "build_query_file(\"configs/PC.CFG\")\n",
    "#Isso constroi nosso arquivo de query."
   ]
  },
  {
   "cell_type": "code",
   "execution_count": 6,
   "metadata": {},
   "outputs": [
    {
     "name": "stderr",
     "output_type": "stream",
     "text": [
      "2024-06-23 21:15:57,956 - INFO - Script execution started\n",
      "2024-06-23 21:15:57,957 - INFO - Started reading config file\n",
      "2024-06-23 21:15:57,959 - INFO - Stemming enabled based on config\n",
      "2024-06-23 21:15:57,960 - INFO - Finished reading config file\n",
      "2024-06-23 21:15:57,961 - INFO - Started reading data from ./data/xmls/cf74.xml\n",
      "2024-06-23 21:15:57,993 - INFO - Finished reading data from ./data/xmls/cf74.xml\n",
      "2024-06-23 21:15:57,996 - INFO - Started reading data from ./data/xmls/cf75.xml\n",
      "2024-06-23 21:15:58,026 - INFO - Finished reading data from ./data/xmls/cf75.xml\n",
      "2024-06-23 21:15:58,029 - INFO - Started reading data from ./data/xmls/cf76.xml\n",
      "2024-06-23 21:15:58,080 - INFO - Finished reading data from ./data/xmls/cf76.xml\n",
      "2024-06-23 21:15:58,084 - INFO - Started reading data from ./data/xmls/cf77.xml\n",
      "2024-06-23 21:15:58,115 - INFO - Finished reading data from ./data/xmls/cf77.xml\n",
      "2024-06-23 21:15:58,118 - INFO - Started reading data from ./data/xmls/cf78.xml\n",
      "2024-06-23 21:15:58,144 - INFO - Finished reading data from ./data/xmls/cf78.xml\n",
      "2024-06-23 21:15:58,146 - INFO - Started reading data from ./data/xmls/cf79.xml\n",
      "2024-06-23 21:15:58,181 - INFO - Finished reading data from ./data/xmls/cf79.xml\n",
      "2024-06-23 21:15:58,184 - INFO - Started indexing words with stemming enabled\n",
      "2024-06-23 21:16:01,612 - INFO - Finished indexing words\n",
      "2024-06-23 21:16:01,613 - INFO - Started writing index to ./result/inverse_list.csv\n",
      "2024-06-23 21:16:01,667 - INFO - Finished writing index to ./result/inverse_list.csv\n",
      "2024-06-23 21:16:01,668 - INFO - Script execution finished\n",
      "2024-06-23 21:16:01,670 - INFO - Total files read: 6\n",
      "2024-06-23 21:16:01,671 - INFO - Total execution time: 0:00:03.711493\n"
     ]
    }
   ],
   "source": [
    "index = index_files(\"configs/GLI.CFG\")\n",
    "##Isso aqui constroi a lista inversa. Eu chamei ela de \"index\", já que ela é essencialmente um índice.\n",
    "##Ela é usada pra recuperar o texto depois, e calcular a \"direção\" de um documento inteiro."
   ]
  },
  {
   "cell_type": "code",
   "execution_count": 7,
   "metadata": {},
   "outputs": [
    {
     "name": "stderr",
     "output_type": "stream",
     "text": [
      "2024-06-23 21:16:01,685 - INFO - Vectorial model execution started\n",
      "2024-06-23 21:16:01,686 - INFO - Started reading index config file\n",
      "2024-06-23 21:16:01,688 - INFO - Finished reading index config file\n",
      "2024-06-23 21:16:01,688 - INFO - Started loading index from ./result/inverse_list.csv\n",
      "2024-06-23 21:16:02,050 - INFO - Finished loading index from ./result/inverse_list.csv\n",
      "2024-06-23 21:16:02,051 - INFO - Checking if METRIC file ./result/vector_model.csv exists\n",
      "2024-06-23 21:16:11,771 - INFO - Loaded METRIC scores from ./result/vector_model.csv\n",
      "2024-06-23 21:16:11,773 - INFO - Skipping METRIC calculation as results already exist.\n",
      "2024-06-23 21:16:11,777 - INFO - Vectorial model execution finished\n",
      "2024-06-23 21:16:11,778 - INFO - Total execution time: 0:00:10.092415\n"
     ]
    }
   ],
   "source": [
    "build_vector_model(\"configs/VECTOR_MODEL.CFG\", calculate_tf_idf)\n",
    "##Você pode alterar a métrica aqui. Passe um segundo argumento, \"metric = função\", onde função recebe somente o index. Por padrão, vai ser usado TF-IDF com ajuste (0.5 + 0.5*tf) * idf"
   ]
  },
  {
   "cell_type": "code",
   "execution_count": 8,
   "metadata": {},
   "outputs": [
    {
     "name": "stderr",
     "output_type": "stream",
     "text": [
      "2024-06-23 21:16:12,225 - INFO - Parsing configuration file: configs/BUSCA.CFG\n",
      "2024-06-23 21:16:12,226 - INFO - Model file set to: ./result/vector_model.csv\n",
      "2024-06-23 21:16:12,227 - INFO - Query file added: \"./result/busca_cfquery.csv\"\n",
      "2024-06-23 21:16:12,229 - INFO - Result file set to: ./result/resultados.csv\n",
      "2024-06-23 21:16:12,230 - INFO - Configuration file parsed successfully. Model file: ./result/vector_model.csv, Query files: ['./result/busca_cfquery.csv'], Result file: ./result/resultados.csv\n",
      "2024-06-23 21:16:12,231 - INFO - Loading vector model from file: ./result/vector_model.csv\n",
      "2024-06-23 21:16:19,359 - INFO - Vector model loaded successfully with 6258 words and 1215 documents\n",
      "2024-06-23 21:16:19,681 - INFO - Reading query file: ./result/busca_cfquery.csv\n",
      "2024-06-23 21:16:19,783 - INFO - Query file './result/busca_cfquery.csv' read successfully. Number of Queries: 99\n",
      "2024-06-23 21:16:20,838 - INFO - Results sorted for all queries in file './result/busca_cfquery.csv'. Total queries: 99\n",
      "2024-06-23 21:17:17,868 - INFO - Operation completed. Results written to file: ./result/resultados.csv\n"
     ]
    }
   ],
   "source": [
    "search_from_config(\"configs/BUSCA.CFG\", index)\n",
    "##Realiza a busca, e escreve tudo no arquivo \"./data/output/resultados.csv\"\n",
    "##Peguei apenas os 10 maiores resultados -- tem 1215 documentos na coleção, o arquivo ficaria muito poluido com muitos resultados.\n",
    "##Vai de 1 a 100. E pula o 93... deus sabe o que aconteceu com o 93....."
   ]
  }
 ],
 "metadata": {
  "kernelspec": {
   "display_name": "Python 3",
   "language": "python",
   "name": "python3"
  },
  "language_info": {
   "codemirror_mode": {
    "name": "ipython",
    "version": 3
   },
   "file_extension": ".py",
   "mimetype": "text/x-python",
   "name": "python",
   "nbconvert_exporter": "python",
   "pygments_lexer": "ipython3",
   "version": "3.12.4"
  }
 },
 "nbformat": 4,
 "nbformat_minor": 2
}
