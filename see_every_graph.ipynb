{
 "cells": [
  {
   "cell_type": "code",
   "execution_count": 1,
   "metadata": {},
   "outputs": [],
   "source": [
    "import os, sys\n",
    "import logging\n",
    "\n",
    "idx_path = os.path.abspath(os.path.join(r\"./src/indexer\"))\n",
    "model_path = os.path.abspath(os.path.join(r\"./src/model\"))\n",
    "srch_path = os.path.abspath(os.path.join(r\"./src/searcher\"))\n",
    "srch_build_path = os.path.abspath(os.path.join(r\"./src/search_processor\"))\n",
    "\n",
    "if idx_path not in sys.path:\n",
    "    sys.path.append(idx_path)\n",
    "    sys.path.append(model_path)\n",
    "    sys.path.append(srch_path)\n",
    "    sys.path.append(srch_build_path)"
   ]
  },
  {
   "cell_type": "code",
   "execution_count": 2,
   "metadata": {},
   "outputs": [],
   "source": [
    "log_filename = os.path.join('logs', 'log.log')\n",
    "logging.basicConfig(\n",
    "    level=logging.INFO,\n",
    "    format='%(asctime)s - %(levelname)s - %(message)s',\n",
    "    handlers=[\n",
    "        logging.FileHandler(log_filename),\n",
    "        logging.StreamHandler()])"
   ]
  },
  {
   "cell_type": "code",
   "execution_count": 3,
   "metadata": {},
   "outputs": [
    {
     "name": "stderr",
     "output_type": "stream",
     "text": [
      "[nltk_data] Downloading package stopwords to C:\\Users\\Ruan\n",
      "[nltk_data]     Felipe\\AppData\\Roaming\\nltk_data...\n",
      "[nltk_data]   Package stopwords is already up-to-date!\n",
      "[nltk_data] Downloading package punkt to C:\\Users\\Ruan\n",
      "[nltk_data]     Felipe\\AppData\\Roaming\\nltk_data...\n",
      "[nltk_data]   Package punkt is already up-to-date!\n"
     ]
    },
    {
     "data": {
      "text/plain": [
       "True"
      ]
     },
     "execution_count": 3,
     "metadata": {},
     "output_type": "execute_result"
    }
   ],
   "source": [
    "import nltk\n",
    "nltk.download('stopwords')\n",
    "nltk.download('punkt')"
   ]
  },
  {
   "cell_type": "code",
   "execution_count": 4,
   "metadata": {},
   "outputs": [],
   "source": [
    "from indexador import index_files\n",
    "from vector_model import build_vector_model, calculate_tf_idf\n",
    "from buscador import search_from_config\n",
    "from search_processor import build_query_file"
   ]
  },
  {
   "cell_type": "code",
   "execution_count": 5,
   "metadata": {},
   "outputs": [
    {
     "name": "stderr",
     "output_type": "stream",
     "text": [
      "2024-06-23 21:29:55,521 - INFO - Parsing configuration file: configs/PC.CFG\n",
      "2024-06-23 21:29:55,524 - INFO - Input query file added: \"./data/input/cfquery.xml\"\n",
      "2024-06-23 21:29:55,525 - INFO - Output query file added: \"./result/busca_cfquery.csv\"\n",
      "2024-06-23 21:29:55,526 - INFO - Expected Result file set to: ./result/esperados.csv\n",
      "2024-06-23 21:29:55,528 - INFO - Configuration file parsed successfully. Input Query file: ./data/input/cfquery.xml, Output Query files: ./result/busca_cfquery.csv,Expected Result file: ./result/esperados.csv\n",
      "2024-06-23 21:29:55,529 - INFO - Started processing XML file: ./data/input/cfquery.xml\n",
      "2024-06-23 21:29:55,759 - INFO - Query file generated: ./result/busca_cfquery.csv\n",
      "2024-06-23 21:29:55,762 - INFO - Results file generated: ./result/esperados.csv\n",
      "2024-06-23 21:29:55,762 - INFO - Finished processing.\n",
      "2024-06-23 21:29:55,765 - INFO - Script execution started\n",
      "2024-06-23 21:29:55,766 - INFO - Started reading config file\n",
      "2024-06-23 21:29:55,768 - INFO - Stemming enabled based on config\n",
      "2024-06-23 21:29:55,768 - INFO - Finished reading config file\n",
      "2024-06-23 21:29:55,769 - INFO - Started reading data from ./data/xmls/cf74.xml\n",
      "2024-06-23 21:29:55,809 - INFO - Finished reading data from ./data/xmls/cf74.xml\n",
      "2024-06-23 21:29:55,812 - INFO - Started reading data from ./data/xmls/cf75.xml\n",
      "2024-06-23 21:29:55,852 - INFO - Finished reading data from ./data/xmls/cf75.xml\n",
      "2024-06-23 21:29:55,856 - INFO - Started reading data from ./data/xmls/cf76.xml\n",
      "2024-06-23 21:29:55,972 - INFO - Finished reading data from ./data/xmls/cf76.xml\n",
      "2024-06-23 21:29:55,980 - INFO - Started reading data from ./data/xmls/cf77.xml\n",
      "2024-06-23 21:29:56,034 - INFO - Finished reading data from ./data/xmls/cf77.xml\n",
      "2024-06-23 21:29:56,037 - INFO - Started reading data from ./data/xmls/cf78.xml\n",
      "2024-06-23 21:29:56,088 - INFO - Finished reading data from ./data/xmls/cf78.xml\n",
      "2024-06-23 21:29:56,093 - INFO - Started reading data from ./data/xmls/cf79.xml\n",
      "2024-06-23 21:29:56,144 - INFO - Finished reading data from ./data/xmls/cf79.xml\n",
      "2024-06-23 21:29:56,149 - INFO - Started indexing words with stemming enabled\n",
      "2024-06-23 21:30:02,006 - INFO - Finished indexing words\n",
      "2024-06-23 21:30:02,009 - INFO - Started writing index to ./result/inverse_list.csv\n",
      "2024-06-23 21:30:02,095 - INFO - Finished writing index to ./result/inverse_list.csv\n",
      "2024-06-23 21:30:02,096 - INFO - Script execution finished\n",
      "2024-06-23 21:30:02,097 - INFO - Total files read: 6\n",
      "2024-06-23 21:30:02,099 - INFO - Total execution time: 0:00:06.329559\n",
      "2024-06-23 21:30:02,100 - INFO - Vectorial model execution started\n",
      "2024-06-23 21:30:02,101 - INFO - Started reading index config file\n",
      "2024-06-23 21:30:02,103 - INFO - Finished reading index config file\n",
      "2024-06-23 21:30:02,105 - INFO - Started loading index from ./result/inverse_list.csv\n",
      "2024-06-23 21:30:02,847 - INFO - Finished loading index from ./result/inverse_list.csv\n",
      "2024-06-23 21:30:02,848 - INFO - Checking if METRIC file ./result/vector_model.csv exists\n",
      "2024-06-23 21:30:15,647 - INFO - Loaded METRIC scores from ./result/vector_model.csv\n",
      "2024-06-23 21:30:15,649 - INFO - Skipping METRIC calculation as results already exist.\n",
      "2024-06-23 21:30:15,650 - INFO - Vectorial model execution finished\n",
      "2024-06-23 21:30:15,651 - INFO - Total execution time: 0:00:13.550421\n",
      "2024-06-23 21:30:15,828 - INFO - Parsing configuration file: configs/BUSCA.CFG\n",
      "2024-06-23 21:30:15,830 - INFO - Model file set to: ./result/vector_model.csv\n",
      "2024-06-23 21:30:15,831 - INFO - Query file added: \"./result/busca_cfquery.csv\"\n",
      "2024-06-23 21:30:15,833 - INFO - Result file set to: ./result/resultados.csv\n",
      "2024-06-23 21:30:15,834 - INFO - Configuration file parsed successfully. Model file: ./result/vector_model.csv, Query files: ['./result/busca_cfquery.csv'], Result file: ./result/resultados.csv\n",
      "2024-06-23 21:30:15,835 - INFO - Loading vector model from file: ./result/vector_model.csv\n",
      "2024-06-23 21:30:21,652 - INFO - Vector model loaded successfully with 6258 words and 1215 documents\n",
      "2024-06-23 21:30:21,693 - INFO - Reading query file: ./result/busca_cfquery.csv\n",
      "2024-06-23 21:30:21,778 - INFO - Query file './result/busca_cfquery.csv' read successfully. Number of Queries: 99\n",
      "2024-06-23 21:30:23,599 - INFO - Results sorted for all queries in file './result/busca_cfquery.csv'. Total queries: 99\n",
      "2024-06-23 21:31:41,838 - INFO - Operation completed. Results written to file: ./result/resultados.csv\n"
     ]
    }
   ],
   "source": [
    "build_query_file(\"configs/PC.CFG\")\n",
    "index = index_files(\"configs/GLI.CFG\")\n",
    "build_vector_model(\"configs/VECTOR_MODEL.CFG\", calculate_tf_idf)\n",
    "search_from_config(\"configs/BUSCA.CFG\", index)\n",
    "#Isso constroi nosso arquivo de query."
   ]
  },
  {
   "cell_type": "code",
   "execution_count": 6,
   "metadata": {},
   "outputs": [
    {
     "name": "stderr",
     "output_type": "stream",
     "text": [
      "2024-06-23 21:31:42,031 - INFO - Parsing configuration file: configs/PC.CFG\n",
      "2024-06-23 21:31:42,034 - INFO - Input query file added: \"./data/input/cfquery.xml\"\n",
      "2024-06-23 21:31:42,036 - INFO - Output query file added: \"./result/busca_cfquery.csv\"\n",
      "2024-06-23 21:31:42,037 - INFO - Expected Result file set to: ./result/esperados.csv\n",
      "2024-06-23 21:31:42,039 - INFO - Configuration file parsed successfully. Input Query file: ./data/input/cfquery.xml, Output Query files: ./result/busca_cfquery.csv,Expected Result file: ./result/esperados.csv\n",
      "2024-06-23 21:31:42,040 - INFO - Started processing XML file: ./data/input/cfquery.xml\n",
      "2024-06-23 21:31:42,291 - INFO - Query file generated: ./result/busca_cfquery.csv\n",
      "2024-06-23 21:31:42,295 - INFO - Results file generated: ./result/esperados.csv\n",
      "2024-06-23 21:31:42,296 - INFO - Finished processing.\n",
      "2024-06-23 21:31:42,301 - INFO - Script execution started\n",
      "2024-06-23 21:31:42,306 - INFO - Started reading config file\n",
      "2024-06-23 21:31:42,308 - INFO - Stemming disabled based on config\n",
      "2024-06-23 21:31:42,309 - INFO - Finished reading config file\n",
      "2024-06-23 21:31:42,312 - INFO - Started reading data from ./data/xmls/cf74.xml\n",
      "2024-06-23 21:31:42,399 - INFO - Finished reading data from ./data/xmls/cf74.xml\n",
      "2024-06-23 21:31:42,402 - INFO - Started reading data from ./data/xmls/cf75.xml\n",
      "2024-06-23 21:31:42,452 - INFO - Finished reading data from ./data/xmls/cf75.xml\n",
      "2024-06-23 21:31:42,456 - INFO - Started reading data from ./data/xmls/cf76.xml\n",
      "2024-06-23 21:31:42,564 - INFO - Finished reading data from ./data/xmls/cf76.xml\n",
      "2024-06-23 21:31:42,575 - INFO - Started reading data from ./data/xmls/cf77.xml\n",
      "2024-06-23 21:31:42,634 - INFO - Finished reading data from ./data/xmls/cf77.xml\n",
      "2024-06-23 21:31:42,637 - INFO - Started reading data from ./data/xmls/cf78.xml\n",
      "2024-06-23 21:31:42,675 - INFO - Finished reading data from ./data/xmls/cf78.xml\n",
      "2024-06-23 21:31:42,678 - INFO - Started reading data from ./data/xmls/cf79.xml\n",
      "2024-06-23 21:31:42,730 - INFO - Finished reading data from ./data/xmls/cf79.xml\n",
      "2024-06-23 21:31:42,733 - INFO - Started indexing words with stemming disabled\n",
      "2024-06-23 21:31:43,440 - INFO - Finished indexing words\n",
      "2024-06-23 21:31:43,442 - INFO - Started writing index to ./result/no_stem_inverse_list.csv\n",
      "2024-06-23 21:31:43,533 - INFO - Finished writing index to ./result/no_stem_inverse_list.csv\n",
      "2024-06-23 21:31:43,534 - INFO - Script execution finished\n",
      "2024-06-23 21:31:43,536 - INFO - Total files read: 6\n",
      "2024-06-23 21:31:43,537 - INFO - Total execution time: 0:00:01.227316\n",
      "2024-06-23 21:31:43,540 - INFO - Vectorial model execution started\n",
      "2024-06-23 21:31:43,543 - INFO - Started reading index config file\n",
      "2024-06-23 21:31:43,545 - INFO - Finished reading index config file\n",
      "2024-06-23 21:31:43,545 - INFO - Started loading index from ./result/no_stem_inverse_list.csv\n",
      "2024-06-23 21:31:44,454 - INFO - Finished loading index from ./result/no_stem_inverse_list.csv\n",
      "2024-06-23 21:31:44,458 - INFO - Checking if METRIC file ./result/no_stem_vector_model.csv exists\n",
      "2024-06-23 21:31:44,459 - INFO - METRIC file ./result/no_stem_vector_model.csv not found. Calculating METRIC scores.\n",
      "2024-06-23 21:31:44,460 - INFO - Started calculating Metric for Analysis... (default is tf-idf)\n",
      "2024-06-23 21:31:51,733 - INFO - Finished calculating metric.\n",
      "2024-06-23 21:31:51,738 - INFO - Started writing METRIC scores to ./result/no_stem_vector_model.csv\n",
      "2024-06-23 21:32:24,780 - INFO - Finished writing METRIC scores to ./result/no_stem_vector_model.csv\n",
      "2024-06-23 21:32:24,782 - INFO - Vectorial model execution finished\n",
      "2024-06-23 21:32:24,782 - INFO - Total execution time: 0:00:41.241966\n",
      "2024-06-23 21:32:24,971 - INFO - Parsing configuration file: configs/BUSCA_no_stem.CFG\n",
      "2024-06-23 21:32:24,980 - INFO - Model file set to: ./result/no_stem_vector_model.csv\n",
      "2024-06-23 21:32:24,981 - INFO - Query file added: \"./result/busca_cfquery.csv\"\n",
      "2024-06-23 21:32:24,982 - INFO - Result file set to: ./result/resultados_no_stem.csv\n",
      "2024-06-23 21:32:24,982 - INFO - Configuration file parsed successfully. Model file: ./result/no_stem_vector_model.csv, Query files: ['./result/busca_cfquery.csv'], Result file: ./result/resultados_no_stem.csv\n",
      "2024-06-23 21:32:24,985 - INFO - Loading vector model from file: ./result/no_stem_vector_model.csv\n",
      "2024-06-23 21:32:31,255 - INFO - Vector model loaded successfully with 9141 words and 1215 documents\n",
      "2024-06-23 21:32:31,279 - INFO - Reading query file: ./result/busca_cfquery.csv\n",
      "2024-06-23 21:32:31,335 - INFO - Query file './result/busca_cfquery.csv' read successfully. Number of Queries: 99\n",
      "2024-06-23 21:32:32,126 - INFO - Results sorted for all queries in file './result/busca_cfquery.csv'. Total queries: 99\n",
      "2024-06-23 21:33:22,023 - INFO - Operation completed. Results written to file: ./result/resultados_no_stem.csv\n"
     ]
    }
   ],
   "source": [
    "build_query_file(\"configs/PC.CFG\")\n",
    "index = index_files(\"configs/GLI_NOSTEM.CFG\")\n",
    "build_vector_model(\"configs/VECTOR_MODEL_no_stem.CFG\", calculate_tf_idf)\n",
    "search_from_config(\"configs/BUSCA_no_stem.CFG\", index)\n",
    "#Isso constroi nosso arquivo de query."
   ]
  },
  {
   "cell_type": "code",
   "execution_count": null,
   "metadata": {},
   "outputs": [],
   "source": []
  }
 ],
 "metadata": {
  "kernelspec": {
   "display_name": "Python 3",
   "language": "python",
   "name": "python3"
  },
  "language_info": {
   "codemirror_mode": {
    "name": "ipython",
    "version": 3
   },
   "file_extension": ".py",
   "mimetype": "text/x-python",
   "name": "python",
   "nbconvert_exporter": "python",
   "pygments_lexer": "ipython3",
   "version": "3.12.4"
  }
 },
 "nbformat": 4,
 "nbformat_minor": 2
}
